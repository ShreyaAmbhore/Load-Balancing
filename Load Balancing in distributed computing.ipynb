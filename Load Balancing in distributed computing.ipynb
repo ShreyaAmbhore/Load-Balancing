{
  "nbformat": 4,
  "nbformat_minor": 0,
  "metadata": {
    "colab": {
      "provenance": []
    },
    "kernelspec": {
      "name": "python3",
      "display_name": "Python 3"
    },
    "language_info": {
      "name": "python"
    }
  },
  "cells": [
    {
      "cell_type": "code",
      "execution_count": 2,
      "metadata": {
        "colab": {
          "base_uri": "https://localhost:8080/"
        },
        "id": "-MJyNq8sNb3r",
        "outputId": "654f1b2b-9fac-4c62-f88c-ce72a48837d4"
      },
      "outputs": [
        {
          "output_type": "stream",
          "name": "stdout",
          "text": [
            "Request 1: Round Robin - Server Server A\n",
            "Random - Server Server C\n",
            "\n",
            "Request 2: Round Robin - Server Server B\n",
            "Random - Server Server C\n",
            "\n",
            "Request 3: Round Robin - Server Server C\n",
            "Random - Server Server B\n",
            "\n",
            "Request 4: Round Robin - Server Server A\n",
            "Random - Server Server A\n",
            "\n",
            "Request 5: Round Robin - Server Server B\n",
            "Random - Server Server C\n",
            "\n",
            "Request 6: Round Robin - Server Server C\n",
            "Random - Server Server B\n",
            "\n",
            "Request 7: Round Robin - Server Server A\n",
            "Random - Server Server A\n",
            "\n",
            "Request 8: Round Robin - Server Server B\n",
            "Random - Server Server A\n",
            "\n",
            "Request 9: Round Robin - Server Server C\n",
            "Random - Server Server A\n",
            "\n",
            "Request 10: Round Robin - Server Server A\n",
            "Random - Server Server A\n",
            "\n"
          ]
        }
      ],
      "source": [
        "import random\n",
        "\n",
        "class LoadBalancer:\n",
        "    def __init__(self, servers):\n",
        "        self.servers = servers\n",
        "        self.server_index_rr = 0\n",
        "\n",
        "    def round_robin(self):\n",
        "        server = self.servers[self.server_index_rr]\n",
        "        self.server_index_rr = (self.server_index_rr + 1) % len(self.servers)\n",
        "        return server\n",
        "\n",
        "    def random_selection(self):\n",
        "        return random.choice(self.servers)\n",
        "\n",
        "def simulate_client_requests(load_balancer, num_requests):\n",
        "    for i in range(num_requests):\n",
        "        # Simulating client request\n",
        "        print(f\"Request {i+1}: \", end=\"\")\n",
        "\n",
        "        # Using Round Robin algorithm for load balancing\n",
        "        server_rr = load_balancer.round_robin()\n",
        "        print(f\"Round Robin - Server {server_rr}\")\n",
        "\n",
        "        # Using Random algorithm for load balancing\n",
        "        server_random = load_balancer.random_selection()\n",
        "        print(f\"Random - Server {server_random}\")\n",
        "\n",
        "        print()\n",
        "\n",
        "if __name__ == \"__main__\":\n",
        "    # List of servers\n",
        "    servers = [\"Server A\", \"Server B\", \"Server C\"]\n",
        "\n",
        "    # Create a LoadBalancer instance\n",
        "    load_balancer = LoadBalancer(servers)\n",
        "\n",
        "    # Simulate 10 client requests\n",
        "    simulate_client_requests(load_balancer, 10)\n"
      ]
    },
    {
      "cell_type": "code",
      "source": [],
      "metadata": {
        "id": "7-HhFNSINqs9"
      },
      "execution_count": null,
      "outputs": []
    }
  ]
}